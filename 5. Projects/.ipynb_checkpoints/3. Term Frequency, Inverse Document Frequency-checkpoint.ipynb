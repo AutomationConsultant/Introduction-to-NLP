{
 "cells": [
  {
   "cell_type": "markdown",
   "metadata": {},
   "source": [
    "# Projects - TF-IDF"
   ]
  },
  {
   "cell_type": "markdown",
   "metadata": {},
   "source": [
    "This code has been tested against Python 2.7 and Python 3.6"
   ]
  },
  {
   "cell_type": "markdown",
   "metadata": {},
   "source": [
    "## Imports"
   ]
  },
  {
   "cell_type": "code",
   "execution_count": null,
   "metadata": {
    "collapsed": true
   },
   "outputs": [],
   "source": [
    "import nltk\n",
    "import math"
   ]
  },
  {
   "cell_type": "markdown",
   "metadata": {},
   "source": [
    "## Load Data"
   ]
  },
  {
   "cell_type": "code",
   "execution_count": null,
   "metadata": {
    "collapsed": true
   },
   "outputs": [],
   "source": [
    "dataset = {\n",
    "    \"tfidf_1.txt\":open(\"tfidf_1.txt\").read(),\n",
    "    \"tfidf_2.txt\":open(\"tfidf_2.txt\").read(),\n",
    "    \"tfidf_3.txt\":open(\"tfidf_3.txt\").read(),\n",
    "    \"tfidf_4.txt\":open(\"tfidf_4.txt\").read(),\n",
    "    \"tfidf_5.txt\":open(\"tfidf_5.txt\").read(),\n",
    "    \"tfidf_6.txt\":open(\"tfidf_6.txt\").read(),\n",
    "    \"tfidf_7.txt\":open(\"tfidf_7.txt\").read(),\n",
    "    \"tfidf_8.txt\":open(\"tfidf_8.txt\").read(),\n",
    "    \"tfidf_9.txt\":open(\"tfidf_9.txt\").read(),\n",
    "    \"tfidf_10.txt\":open(\"tfidf_10.txt\").read()\n",
    "}"
   ]
  },
  {
   "cell_type": "markdown",
   "metadata": {},
   "source": [
    "## Define Functions"
   ]
  },
  {
   "cell_type": "code",
   "execution_count": null,
   "metadata": {
    "collapsed": true
   },
   "outputs": [],
   "source": [
    "# Calculate term frequencies\n",
    "def tf(dataset, file_name):\n",
    "    text = dataset[file_name]\n",
    "    tokens = nltk.word_tokenize(text)\n",
    "    fd = nltk.FreqDist(tokens)\n",
    "    return fd\n",
    "\n",
    "# Calculate inverse document frequency\n",
    "def idf(dataset, term):\n",
    "    count = [term in dataset[file_name] for file_name in dataset]\n",
    "    inv_df = math.log(len(count)/sum(count))\n",
    "    return inv_df\n",
    "\n",
    "def tfidf(dataset, file_name, n):\n",
    "    term_scores = {}\n",
    "    file_fd = tf(dataset,file_name)\n",
    "    for term in file_fd:\n",
    "        if term.isalpha():\n",
    "            idf_val = idf(dataset,term)\n",
    "            tf_val = tf(dataset, file_name)[term]\n",
    "            tfidf = tf_val*idf_val\n",
    "            term_scores[term] = round(tfidf,2)\n",
    "    return sorted(term_scores.items(), key=lambda x:-x[1])[:n]"
   ]
  },
  {
   "cell_type": "markdown",
   "metadata": {},
   "source": [
    "## Run Code"
   ]
  },
  {
   "cell_type": "code",
   "execution_count": null,
   "metadata": {
    "collapsed": false
   },
   "outputs": [],
   "source": [
    "tfidf(dataset,\"tfidf_1.txt\",5)"
   ]
  },
  {
   "cell_type": "code",
   "execution_count": null,
   "metadata": {
    "collapsed": false,
    "scrolled": true
   },
   "outputs": [],
   "source": [
    "for file_name in dataset:\n",
    "    print(\"{0}: \\n {1} \\n\".format(file_name, tfidf(dataset,file_name,5)))"
   ]
  },
  {
   "cell_type": "raw",
   "metadata": {},
   "source": [
    "Suggested Next Steps:\n",
    " - Remove stopwords\n",
    " - Make sure all tokens are lowercase\n",
    " - Reduce the number of times we call the \"tf\" function"
   ]
  }
 ],
 "metadata": {
  "kernelspec": {
   "display_name": "Python 3",
   "language": "python",
   "name": "python3"
  },
  "language_info": {
   "codemirror_mode": {
    "name": "ipython",
    "version": 3
   },
   "file_extension": ".py",
   "mimetype": "text/x-python",
   "name": "python",
   "nbconvert_exporter": "python",
   "pygments_lexer": "ipython3",
   "version": "3.6.0"
  }
 },
 "nbformat": 4,
 "nbformat_minor": 2
}
